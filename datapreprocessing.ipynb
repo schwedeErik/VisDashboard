{
 "cells": [
  {
   "cell_type": "markdown",
   "metadata": {},
   "source": [
    "Data proprocessing"
   ]
  },
  {
   "cell_type": "code",
   "execution_count": 8,
   "metadata": {},
   "outputs": [
    {
     "name": "stdout",
     "output_type": "stream",
     "text": [
      "['Russian Federation' 'Belgorod Oblast' 'Bryansk Oblast' 'Vladimir Oblast'\n",
      " 'Voronezh Oblast' 'Ivanovo Oblast' 'Kaluga Oblast' 'Kostroma Oblast'\n",
      " 'Kursk Oblast' 'Lipetsk Oblast' 'Moscow Oblast' 'Oryol Oblast'\n",
      " 'Ryazan Oblast' 'Smolensk Oblast' 'Tambov Oblast' 'Tver Oblast'\n",
      " 'Tula Oblast' 'Yaroslavl Oblast' 'Moscow' 'Republic of Karelia'\n",
      " 'Komi Republic' 'Arkhangelsk Oblast' 'Nenets Autonomous Okrug'\n",
      " 'Vologda Oblast' 'Kaliningrad Oblast' 'Leningrad Oblast'\n",
      " 'Murmansk Oblast' 'Novgorod Oblast' 'Pskov Oblast' 'Saint Petersburg'\n",
      " 'Republic of Dagestan' 'Republic of Ingushetia'\n",
      " 'Kabardino-Balkar Republic' 'Karachay-Cherkess Republic'\n",
      " 'Republic of North Ossetia-Alania' 'Chechen Republic' 'Stavropol Krai'\n",
      " 'Republic of Adygea' 'Republic of Kalmykia' 'Republic of Crimea'\n",
      " 'Krasnodar Krai' 'Astrakhan Oblast' 'Volgograd Oblast' 'Rostov Oblast'\n",
      " 'Sevastopol' 'Republic of Bashkortostan' 'Mari El Republic'\n",
      " 'Republic of Mordovia' 'Republic of Tatarstan' 'Udmurt Republic'\n",
      " 'Chuvash Republic' 'Perm Krai' 'Kirov Oblast' 'Nizhny Novgorod Oblast'\n",
      " 'Orenburg Oblast' 'Penza Oblast' 'Samara Oblast' 'Saratov Oblast'\n",
      " 'Ulyanovsk Oblast' 'Kurgan Oblast' 'Sverdlovsk Oblast' 'Tyumen Oblast'\n",
      " 'Khanty–Mansi Autonomous Okrug – Yugra' 'Yamalo-Nenets Autonomous Okrug'\n",
      " 'Chelyabinsk Oblast' 'Altai Republic' 'Republic of Buryatia'\n",
      " 'Tuva Republic' 'Republic of Khakassia' 'Altai Krai' 'Zabaykalsky Krai'\n",
      " 'Krasnoyarsk Krai' 'Irkutsk Oblast' 'Kemerovo Oblast'\n",
      " 'Novosibirsk Oblast' 'Omsk Oblast' 'Tomsk Oblast'\n",
      " 'Sakha (Yakutia) Republic' 'Kamchatka Krai' 'Primorsky Krai'\n",
      " 'Khabarovsk Krai' 'Amur Oblast' 'Magadan Oblast' 'Sakhalin Oblast'\n",
      " 'Jewish Autonomous Oblast' 'Chukotka Autonomous Okrug']\n"
     ]
    }
   ],
   "source": [
    "import pandas as pd\n",
    "\n",
    "# Load the CSV file into a DataFrame\n",
    "df = pd.read_csv('static/data/russCrimes.csv')\n",
    "\n",
    "# Replace 'your_column' with the name of the column you're interested in\n",
    "valid_values = df['region'].unique()\n",
    "\n",
    "print(unique_values)"
   ]
  },
  {
   "cell_type": "code",
   "execution_count": 11,
   "metadata": {},
   "outputs": [
    {
     "name": "stdout",
     "output_type": "stream",
     "text": [
      "85\n",
      "85\n"
     ]
    }
   ],
   "source": [
    "import json\n",
    "# Load the GeoJSON file\n",
    "with open('static/data/russia.geojson', 'r', encoding='utf-8') as geojson_file:\n",
    "    geojson_data = json.load(geojson_file)\n",
    "\n",
    "# Filter the features\n",
    "filtered_features = [\n",
    "    feature for feature in geojson_data['features']\n",
    "    if feature['properties']['name_latin'] in valid_values\n",
    "]\n",
    "\n",
    "print(len(geojson_data['features']))\n",
    "print(len(filtered_features))\n",
    "\n",
    "# Replace the original features with the filtered ones\n",
    "#geojson_data['features'] = filtered_features\n",
    "\n",
    "# Save the filtered GeoJSON to a new file\n",
    "#with open('filtered_russia.geojson', 'w', encoding='utf-8') as filtered_file:\n",
    "#    json.dump(geojson_data, filtered_file, ensure_ascii=False, indent=4)\n",
    "\n",
    "#print(f\"Filtered GeoJSON file saved as 'filtered_file.geojson'\")"
   ]
  }
 ],
 "metadata": {
  "kernelspec": {
   "display_name": "visana24",
   "language": "python",
   "name": "python3"
  },
  "language_info": {
   "codemirror_mode": {
    "name": "ipython",
    "version": 3
   },
   "file_extension": ".py",
   "mimetype": "text/x-python",
   "name": "python",
   "nbconvert_exporter": "python",
   "pygments_lexer": "ipython3",
   "version": "3.11.9"
  }
 },
 "nbformat": 4,
 "nbformat_minor": 2
}
